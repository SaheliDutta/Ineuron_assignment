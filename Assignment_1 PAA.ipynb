{
 "cells": [
  {
   "cell_type": "code",
   "execution_count": null,
   "metadata": {},
   "outputs": [],
   "source": [
    "Q1. What is the purpose of Python's OOP?\n",
    "Ans. Object-oriented programming provides a means of structuring programs so that properties and behaviors are bundled\n",
    "into individual objects.\n",
    "•OOP provides the feature of reusability of classes with the help of which, it is easy to use all the classes \n",
    "again that have already been created previously.Code reusability is one of the characteristics of object-oriented programming,\n",
    "which is done by inheritance OOP concept.\n",
    "•It allows for the parallel development of classes due to which object oriented programming is considered \n",
    "as the quickest way of development for completing the programs.\n",
    "•The coding in OOP is easy to maintain due to centralised coding base,making it easy to create maintainable \n",
    "procedure code. It also makes it easy for keeping all the data accessible while executing and upgrading it.\n",
    "•It is a useful approach or a process that helps in improving the security of entire programming.\n",
    "•Code management in OOPs also becomes very easy as all the code is divided into a number of elements. \n",
    "It also allows the programmers to initialize the object variable as well as call the function easily. \n",
    "•Data redundancy is another major benefit of OOPS, which is a condition created where the data is stored \n",
    "and this similar piece of data is also shared into different places. According to this, \n",
    "if a user requires the similar functionality in multiple classes then an individual can easily go ahead. \n",
    "This can be done by using common class definitions for the particular functionalities as well as inheriting them \n",
    "in an efficient way."
   ]
  },
  {
   "cell_type": "code",
   "execution_count": null,
   "metadata": {},
   "outputs": [],
   "source": [
    "Q2. Where does an inheritance search look for an attribute?\n",
    "Ans. when searching for attributes in inheritance search, Python looks in object first. \n",
    "The first occurrence of attribute starts by looking in object, then in all classes above it,\n",
    "from bottom to top and left to right. Attribute fetches are simply tree searches. \n",
    "The term inheritance is applied because objects lower in a tree inherit attributes attached to objects higher in that tree.\n",
    "As the search proceeds from the bottom up, in a sense, the objects linked into a tree are the union of all the attributes \n",
    "defined in all their tree parents, all the way up the tree."
   ]
  },
  {
   "cell_type": "code",
   "execution_count": null,
   "metadata": {},
   "outputs": [],
   "source": [
    "Q3. How do you distinguish between a class object and an instance object?\n",
    "Ans. A class is a template for objects. A class defines object properties including a valid range of values, \n",
    "and a default value. A class also describes object behavior. An object is a member or an \"instance\" of a class. \n",
    "A class is a code template for creating objects. Objects have member variables and have behaviour associated with them. \n",
    "In python a class is created by the keyword class . An object is created using the constructor of the class. \n",
    "This object will then be called the instance of the class.\n",
    "An object has a state in which all of its properties have values that one either explicitly define or \n",
    "that are defined by default settings.\n",
    "Instances refers to the set of objects which are instances of a particular class or classes, \n",
    "and instance to a specific object which is an instance of a particular class. "
   ]
  },
  {
   "cell_type": "code",
   "execution_count": null,
   "metadata": {},
   "outputs": [],
   "source": [
    "Q4. What makes the first argument in a class’s method function special?\n",
    "Ans. The first argument in a class’s method function automatically receives a special first argument, \n",
    "self, that provides a handle back to the instance to be processed. Methods with two underscores at the start and end\n",
    "of names are special methods. "
   ]
  },
  {
   "cell_type": "code",
   "execution_count": null,
   "metadata": {},
   "outputs": [],
   "source": [
    "Q5. What is the purpose of the __init__ method?\n",
    "Ans. Python classes can have something similar to a constructor: the __init__() method.\n",
    "#Python's __init__ method is called the initializer method. The initializer method initializes our new class instance. \n",
    "So by the point, that the initializer method is called the class instance has already been constructed. \n",
    "The __init__ method allows you to assign initial values to various attributes on your class instances. \n",
    "The __init__() function is called automatically every time the class is being used to create a new object."
   ]
  },
  {
   "cell_type": "code",
   "execution_count": null,
   "metadata": {},
   "outputs": [],
   "source": [
    "Q6. What is the process for creating a class instance?\n",
    "Ans.To create instances of a class, you call the class using class name and pass in whatever arguments its __init__ method \n",
    "accepts."
   ]
  },
  {
   "cell_type": "code",
   "execution_count": null,
   "metadata": {},
   "outputs": [],
   "source": [
    "Q7. What is the process for creating a class?\n",
    "Ans. A class is a template for defining objects. It specifies the names and types of variables that can exist in an object, \n",
    "as well as \"methodsClasses are created by keyword class. When an object of a class is created,\n",
    "the class is said to be instantiated.\n",
    "The syntax for defining a class :\n",
    "Class Class_Name:\n",
    "Initializer\n",
    "Attributes\n",
    "Method()\n",
    "Statments\n",
    "\n",
    "#For Ex:\n",
    "class Demo:\n",
    "    pass\n",
    "    D1=Demo()\n",
    "print (D1)\n"
   ]
  },
  {
   "cell_type": "code",
   "execution_count": null,
   "metadata": {},
   "outputs": [],
   "source": [
    "Q8. How would you define the superclasses of a class?\n",
    "Ans. A superclass is the class from which many subclasses can be created. \n",
    "The subclasses inherit the characteristics of a superclass. The superclass is also known as the parent class or base class.\n",
    "A class which inherits from a superclass is called a subclass, also called heir class or child class. \n",
    "Superclasses are sometimes called ancestors as well.\n"
   ]
  }
 ],
 "metadata": {
  "kernelspec": {
   "display_name": "Python 3",
   "language": "python",
   "name": "python3"
  },
  "language_info": {
   "codemirror_mode": {
    "name": "ipython",
    "version": 3
   },
   "file_extension": ".py",
   "mimetype": "text/x-python",
   "name": "python",
   "nbconvert_exporter": "python",
   "pygments_lexer": "ipython3",
   "version": "3.8.5"
  }
 },
 "nbformat": 4,
 "nbformat_minor": 4
}
