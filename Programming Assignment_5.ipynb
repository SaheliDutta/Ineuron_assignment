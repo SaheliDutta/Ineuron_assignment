{
 "cells": [
  {
   "cell_type": "code",
   "execution_count": 1,
   "metadata": {},
   "outputs": [
    {
     "name": "stdout",
     "output_type": "stream",
     "text": [
      "77\n",
      "55\n",
      "385\n"
     ]
    }
   ],
   "source": [
    "#1.Write a Python Program to Find LCM?\n",
    "num1 = int(input())\n",
    "num2 = int(input())\n",
    "if(num1 > num2 ): \n",
    "    max= num1\n",
    "else:\n",
    "    max= num2\n",
    "while(True):\n",
    "    if(max % num1 == 0 and max % num2 == 0):   \n",
    "        print(max)\n",
    "        break;\n",
    "    max= max+ 1"
   ]
  },
  {
   "cell_type": "code",
   "execution_count": 15,
   "metadata": {},
   "outputs": [
    {
     "name": "stdout",
     "output_type": "stream",
     "text": [
      "Enter first number100\n",
      "Enter second number20\n",
      "The H.C.F. is 20\n"
     ]
    }
   ],
   "source": [
    "#2.Write a Python Program to Find HCF\n",
    "def compute_hcf(a, b):\n",
    "    if a > b:\n",
    "        smaller = b\n",
    "    else:\n",
    "        smaller = a\n",
    "    for i in range(1, smaller+1):\n",
    "        if((a % i == 0) and (b % i == 0)):\n",
    "            hcf = i \n",
    "    return hcf\n",
    "\n",
    "num1 =eval(input('Enter first number'))\n",
    "num2 = eval(input('Enter second number'))\n",
    "\n",
    "print(\"The H.C.F. is\", compute_hcf(num1, num2))\n",
    " "
   ]
  },
  {
   "cell_type": "code",
   "execution_count": 27,
   "metadata": {},
   "outputs": [
    {
     "name": "stdout",
     "output_type": "stream",
     "text": [
      "Enter an integer: 4\n",
      "Decimal value of 4 is \n",
      "0b100 in binary. \n",
      "0o4 in octal. \n",
      "0x4 in hexadecimal. \n"
     ]
    }
   ],
   "source": [
    "#3.\tWrite a Python Program to Convert Decimal to Binary, Octal and Hexadecimal?\n",
    "num = int(input(\"Enter an integer: \"))\n",
    "print(\"Decimal value of\",num,\"is \")\n",
    "print(bin(num),\"in binary. \")\n",
    "print(oct(num),\"in octal. \")\n",
    "print(hex(num),\"in hexadecimal. \")"
   ]
  },
  {
   "cell_type": "code",
   "execution_count": 20,
   "metadata": {},
   "outputs": [
    {
     "name": "stdout",
     "output_type": "stream",
     "text": [
      "Enter any upper case or lower case alphabet:  k\n",
      "The ASCII value of ' k' is 107\n"
     ]
    }
   ],
   "source": [
    "#4.\tWrite a Python Program To Find ASCII value of a character?\n",
    "c = str(input(\"Enter any upper case or lower case alphabet:  \"))\n",
    "print(\"The ASCII value of ' \" + c + \"' is\", ord(c))"
   ]
  },
  {
   "cell_type": "code",
   "execution_count": 25,
   "metadata": {},
   "outputs": [
    {
     "name": "stdout",
     "output_type": "stream",
     "text": [
      "Enter any arithmetic function 4\n",
      "Enter two numbers: \n",
      "7\n",
      "9\n",
      "answer =  0.7777777777777778\n"
     ]
    }
   ],
   "source": [
    "#5.\tWrite a Python Program to Make a Simple Calculator with 4 basic mathematical operations?\n",
    "num_cal = int(input(\"Enter any arithmetic function \"))  \n",
    "if (num_cal>=1 and num_cal<=4):\n",
    "    print(\"Enter two numbers: \")\n",
    "    x= int(input())\n",
    "    y= int(input())\n",
    "if num_cal == 1: \n",
    "    ans = x + y\n",
    "    print(\"answer = \", ans)\n",
    "elif num_cal == 2:\n",
    "    ans = x - y\n",
    "    print(\"answer = \", ans)\n",
    "elif num_cal == 3: \n",
    "    ans = x * y\n",
    "    print(\"answer = \", ans)\n",
    "elif num_cal == 4: \n",
    "    ans = x / y\n",
    "    print(\"answer = \", ans)"
   ]
  }
 ],
 "metadata": {
  "kernelspec": {
   "display_name": "Python 3",
   "language": "python",
   "name": "python3"
  },
  "language_info": {
   "codemirror_mode": {
    "name": "ipython",
    "version": 3
   },
   "file_extension": ".py",
   "mimetype": "text/x-python",
   "name": "python",
   "nbconvert_exporter": "python",
   "pygments_lexer": "ipython3",
   "version": "3.8.5"
  }
 },
 "nbformat": 4,
 "nbformat_minor": 4
}
