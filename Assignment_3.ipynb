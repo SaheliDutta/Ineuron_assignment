{
 "cells": [
  {
   "cell_type": "code",
   "execution_count": null,
   "metadata": {},
   "outputs": [],
   "source": [
    "1.Why are functions advantageous to have in your programs?\n",
    "Ans.Functions reduce the use of duplicate code. This makes programs shorter, easier to read, and easier to update. \n",
    "Functions are advantageous to have in programs because of the following reasons:\n",
    "•Avoid repetition of codes.\n",
    "•Increases program readability.\n",
    "•Divide a complex problem into simpler ones.\n",
    "•Reduces chances of error.\n",
    "•Modifying a program becomes easier by using function.\n"
   ]
  },
  {
   "cell_type": "code",
   "execution_count": null,
   "metadata": {},
   "outputs": [],
   "source": [
    "2.\tWhen does the code in a function run: when it's specified or when it's called?\n",
    "Ans . The code in a function run when it’s called.\n"
   ]
  },
  {
   "cell_type": "code",
   "execution_count": null,
   "metadata": {},
   "outputs": [],
   "source": [
    "3. What statement creates a function?\n",
    "Ans. The “def” keyword is the statement used to define a function in Python.\n",
    "A function that starts with a def keyword, specify it’s name by a colon (:). \n"
   ]
  },
  {
   "cell_type": "code",
   "execution_count": null,
   "metadata": {},
   "outputs": [],
   "source": [
    "4. What is the difference between a function and a function call?\n",
    "Ans. A function is a piece of code which enhanced the reusability and modularity of a program.\n",
    "It means that there is no need to repeat any code again.\n",
    "\n",
    "A function call means calling that function.\n",
    "Unless a function is called there is no use of that function.\n"
   ]
  },
  {
   "cell_type": "code",
   "execution_count": null,
   "metadata": {},
   "outputs": [],
   "source": [
    "5. How many global scopes are there in a Python program? How many local scopes?\n",
    "Ans. There is one global scope, and a local scope is created whenever a function is called.\n"
   ]
  },
  {
   "cell_type": "code",
   "execution_count": null,
   "metadata": {},
   "outputs": [],
   "source": [
    "6.What happens to variables in a local scope when the function call returns?\n",
    "Ans.When a function returns, the local scope is destroyed, and all the variables in it are forgotten."
   ]
  },
  {
   "cell_type": "code",
   "execution_count": null,
   "metadata": {},
   "outputs": [],
   "source": [
    "7. What is the concept of a return value? Is it possible to have a return value in an expression?\n",
    "Ans.A return value is the value that a function call evaluates to.\n",
    "Yes, it is possible have a return value can used as part of an expression."
   ]
  },
  {
   "cell_type": "code",
   "execution_count": null,
   "metadata": {},
   "outputs": [],
   "source": [
    "8. If a function does not have a return statement, what is the return value of a call to that function?\n",
    "Ans. If a function does not have a return statement then \n",
    "it automatically returns to the calling function after the last statement of the called function ."
   ]
  },
  {
   "cell_type": "code",
   "execution_count": null,
   "metadata": {},
   "outputs": [],
   "source": [
    "9. How do you make a function variable refer to the global variable?\n",
    "Ans. To make a function variable refer to the global variable we can use the global keyword\n",
    "to declare which variables are global.\n"
   ]
  },
  {
   "cell_type": "code",
   "execution_count": null,
   "metadata": {},
   "outputs": [],
   "source": [
    "10. What is the data type of None?\n",
    "Ans. The None keyword is used to define a null variable or an object. None is not the same as 0, False, or an empty string. \n",
    "None is a data type of its own -NoneType. None keyword is an object in python, and it is a data type of the class NoneType.\n",
    "We can assign None to any variable, but we cannot create NoneType objects. \n"
   ]
  },
  {
   "cell_type": "code",
   "execution_count": null,
   "metadata": {},
   "outputs": [],
   "source": [
    "11. What does the sentence import areallyourpetsnamederic do?\n",
    "Ans. That import statement areallyourpetsnamederic  will import a module named areallyourpetsnamederic .\n"
   ]
  },
  {
   "cell_type": "code",
   "execution_count": null,
   "metadata": {},
   "outputs": [],
   "source": [
    "12. If you had a bacon() feature in a spam module, what would you call it after importing spam?\n",
    "Ans. This function can be called with spam.bacon().\n"
   ]
  },
  {
   "cell_type": "code",
   "execution_count": null,
   "metadata": {},
   "outputs": [],
   "source": [
    "13. What can you do to save a programme from crashing if it encounters an error?\n",
    "Ans. We can use error handling to notify the reason why the error occurred and exit the process that caused the error.\n"
   ]
  },
  {
   "cell_type": "code",
   "execution_count": null,
   "metadata": {},
   "outputs": [],
   "source": [
    "14. What is the purpose of the try clause? What is the purpose of the except clause?\n",
    "Ans.The code which cause an error goes in the try clause.\n",
    "The code that executes if an error happens goes in the except clause."
   ]
  }
 ],
 "metadata": {
  "kernelspec": {
   "display_name": "Python 3",
   "language": "python",
   "name": "python3"
  },
  "language_info": {
   "codemirror_mode": {
    "name": "ipython",
    "version": 3
   },
   "file_extension": ".py",
   "mimetype": "text/x-python",
   "name": "python",
   "nbconvert_exporter": "python",
   "pygments_lexer": "ipython3",
   "version": "3.8.5"
  }
 },
 "nbformat": 4,
 "nbformat_minor": 4
}
