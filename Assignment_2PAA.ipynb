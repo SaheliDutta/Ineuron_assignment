{
 "cells": [
  {
   "cell_type": "code",
   "execution_count": null,
   "metadata": {},
   "outputs": [],
   "source": [
    "Q1. What is the relationship between classes and modules?\n",
    "Ans.  A class can be instantiated but a module cannot. A module will never be anything other than a library of methods.\n",
    "A class can hold its state by keeping track of instance variables and be duplicated as many times as you want. \n",
    "It's all about objects."
   ]
  },
  {
   "cell_type": "code",
   "execution_count": null,
   "metadata": {},
   "outputs": [],
   "source": [
    "Q2. How do you make instances and classes?\n",
    "Ans.Ans. When you create an object, you are creating an instance of a class, therefore \"instantiating\" a class. \n",
    "The new operator requires a single, postfix argument: a call to a constructor. The name of the constructor provides the name\n",
    "of the class to instantiate. The constructor initializes the new object."
   ]
  },
  {
   "cell_type": "code",
   "execution_count": null,
   "metadata": {},
   "outputs": [],
   "source": [
    "Q3. Where and how should be class attributes created?\n",
    "Ans. Class attributes are attributes which are owned by the class itself. They will be shared by all the instances of the class.\n",
    "Therefore they have the same value for every instance. We define class attributes outside all the methods, \n",
    "they are placed at the top, right below the class header. An instance attribute is a Python variable belonging to one,\n",
    "and only one, object. This variable is only accessible in the scope of this object and it is defined inside the \n",
    "constructor function etc."
   ]
  },
  {
   "cell_type": "code",
   "execution_count": null,
   "metadata": {},
   "outputs": [],
   "source": [
    "Q4. Where and how are instance attributes created?\n",
    "Ans.An instance attribute is a Python variable belonging to only one object. \n",
    "It is only accessible in the scope of the object and it is defined inside the constructor function of a class.\n",
    "For example, __init__(self..)."
   ]
  },
  {
   "cell_type": "code",
   "execution_count": 2,
   "metadata": {},
   "outputs": [
    {
     "name": "stdout",
     "output_type": "stream",
     "text": [
      "attribute1\n"
     ]
    }
   ],
   "source": [
    "class ObjectClass():\n",
    "    def __init__(self):\n",
    "        self.attribute1 = \"attribute1\"\n",
    "\n",
    "    def newAttr(self, attr):\n",
    "        setattr(self, attr, attr)\n",
    "\n",
    "objectClass = ObjectClass()\n",
    "print(objectClass.attribute1)"
   ]
  },
  {
   "cell_type": "code",
   "execution_count": null,
   "metadata": {},
   "outputs": [],
   "source": [
    "Q5. What does the term \"self\" in a Python class mean?\n",
    "Ans. In python “self” represents the instance of the class. By using the “self” keyword we can access the attributes and methods\n",
    "of the class in python. It binds the attributes with the given arguments."
   ]
  },
  {
   "cell_type": "code",
   "execution_count": null,
   "metadata": {},
   "outputs": [],
   "source": [
    "Q6. How does a Python class handle operator overloading?\n",
    "Ans. Operator overloading is the process of using an operator in different ways depending on the operands."
   ]
  },
  {
   "cell_type": "code",
   "execution_count": null,
   "metadata": {},
   "outputs": [],
   "source": [
    "Q7. When do you consider allowing operator overloading of your classes?\n",
    "Ans.Operator Overloading means giving extended meaning beyond their predefined operational meaning.\n",
    "The purpose of operator overloading is to provide a special meaning of an operator for a user-defined data type. \n",
    "With the help of operator overloading the majority of the operators can be redefined. \n",
    "It is also used to perform different operations using one operator."
   ]
  },
  {
   "cell_type": "code",
   "execution_count": null,
   "metadata": {},
   "outputs": [],
   "source": [
    "Q8. What is the most popular form of operator overloading?\n",
    "Ans. A very popular and convenient example is the Addition (+) operator.\n",
    "The ‘+’ operator operates on two numbers and the same operator operates on two strings. \n",
    "It performs “Addition” on numbers whereas it performs “Concatenation” on strings."
   ]
  },
  {
   "cell_type": "code",
   "execution_count": null,
   "metadata": {},
   "outputs": [],
   "source": [
    "Q9. What are the two most important concepts to grasp in order to comprehend Python OOP code?\n",
    "Ans. The two most important concepts to grasp in order to comprehend Python OOP code are Inheritance and Polymorphism.\n",
    "Inheritance is the capability of one class to derive or inherit the properties from another class.\n",
    "The benefits of inheritance are: \n",
    " \n",
    "1.It represents real-world relationships well.\n",
    "2.It provides reusability of a code. We don’t have to write the same code again and again. \n",
    "Also, it allows us to add more features to a class without modifying it.\n",
    "3.It is transitive in nature, which means that if class B inherits from another class A, then all the subclasses of B would \n",
    "automatically inherit from class A.\n",
    "\n",
    "The word polymorphism means having many forms. \n",
    "In programming, polymorphism means same function name but different signatures used for different types.\n",
    "We can use the concept of polymorphism while creating class methods since Python allows different classes to have methods with \n",
    "the same name."
   ]
  }
 ],
 "metadata": {
  "kernelspec": {
   "display_name": "Python 3",
   "language": "python",
   "name": "python3"
  },
  "language_info": {
   "codemirror_mode": {
    "name": "ipython",
    "version": 3
   },
   "file_extension": ".py",
   "mimetype": "text/x-python",
   "name": "python",
   "nbconvert_exporter": "python",
   "pygments_lexer": "ipython3",
   "version": "3.8.5"
  }
 },
 "nbformat": 4,
 "nbformat_minor": 4
}
