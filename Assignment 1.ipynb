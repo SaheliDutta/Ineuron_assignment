{
 "cells": [
  {
   "cell_type": "code",
   "execution_count": null,
   "metadata": {},
   "outputs": [],
   "source": [
    "# 1. Write a Python program to print \"Hello Python\"\n",
    "p= \"Hello Python\"\n",
    "print(p)"
   ]
  },
  {
   "cell_type": "code",
   "execution_count": null,
   "metadata": {},
   "outputs": [],
   "source": [
    "# 2.Write a Python program to do arithmetical operations addition and division.?\n",
    "x= int(input(\"Enter first number\"))\n",
    "print(x)\n",
    "y=int(input(\"Enter the second number\"))\n",
    "print(y)\n",
    "add= x+y\n",
    "print(\"The result of addition is \",+add)\n",
    "div= x/y\n",
    "print(\"The result of division is \",+div)"
   ]
  },
  {
   "cell_type": "code",
   "execution_count": null,
   "metadata": {},
   "outputs": [],
   "source": [
    "# 3.Write a Python program to find the area of a triangle?\n",
    "\n",
    "m = float(input(\"Enter the first side of the triangle\"))\n",
    "n = float(input(\"Enter the second side of the triangle\" ))\n",
    "o = float(input(\"Enter the third side of the triangle\"))\n",
    "\n",
    "Perimeter = m + n + o\n",
    "print(\"The Perimeter of the traiangle is\" , +Perimeter);\n",
    "s = (m + n + o) / 2\n",
    "print(\"The semi-perimeter of the traiangle is \", +s);\n",
    "\n",
    "Area = (s*(s-m)*(s-n)*(s-o)) ** 1/2\n",
    "print(\"The area of a Triangle is \" , +Area)\n"
   ]
  },
  {
   "cell_type": "code",
   "execution_count": null,
   "metadata": {},
   "outputs": [],
   "source": [
    "# 4.Write a Python program to swap two variables?\n",
    "a=input(\"Enter the value of a \")\n",
    "print(\"The value of a before swapping \", a)\n",
    "b=input(\"Enter the value of b \")\n",
    "print(\"The value of b before swapping \", b)\n",
    "c = a #swapping two numbers using a third variable\n",
    "a = b\n",
    "b = c\n",
    "print(\"Value of a after swapping \", a)\n",
    "print(\"Value of b after swapping \", b)"
   ]
  },
  {
   "cell_type": "code",
   "execution_count": 5,
   "metadata": {},
   "outputs": [
    {
     "name": "stdout",
     "output_type": "stream",
     "text": [
      "3\n"
     ]
    }
   ],
   "source": [
    "# 5.Write a Python program to generate a random number?\n",
    "import random\n",
    "\n",
    "rd_num = [1,2,3,4,5,6]\n",
    "print(random.choice(rd_num))"
   ]
  },
  {
   "cell_type": "code",
   "execution_count": null,
   "metadata": {},
   "outputs": [],
   "source": []
  }
 ],
 "metadata": {
  "kernelspec": {
   "display_name": "Python 3",
   "language": "python",
   "name": "python3"
  }
 },
 "nbformat": 4,
 "nbformat_minor": 4
}
