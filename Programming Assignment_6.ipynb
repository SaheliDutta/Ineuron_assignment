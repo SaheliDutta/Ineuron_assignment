{
 "cells": [
  {
   "cell_type": "code",
   "execution_count": 2,
   "metadata": {},
   "outputs": [
    {
     "name": "stdout",
     "output_type": "stream",
     "text": [
      "Enter any value 5\n",
      "Fibonacci sequence:\n",
      "0\n",
      "1\n",
      "1\n",
      "2\n",
      "3\n"
     ]
    }
   ],
   "source": [
    "#1.Write a Python Program to Display Fibonacci Sequence Using Recursion?\n",
    "def recurr_fibonacci(x):\n",
    "   if x <= 1:\n",
    "       return x\n",
    "   else:\n",
    "       return(recurr_fibonacci(x-1) + recurr_fibonacci(x-2))\n",
    "\n",
    "fb = int(input(\"Enter any value \"))\n",
    "\n",
    "if fb <= 0:\n",
    "   print(\"Plese enter a positive integer\")\n",
    "else:\n",
    "   print(\"Fibonacci sequence:\")\n",
    "   for i in range(fb):\n",
    "       print(recurr_fibonacci(i))"
   ]
  },
  {
   "cell_type": "code",
   "execution_count": 3,
   "metadata": {},
   "outputs": [
    {
     "name": "stdout",
     "output_type": "stream",
     "text": [
      "Enter any value 10\n",
      "The factorial of 10 is 3628800\n"
     ]
    }
   ],
   "source": [
    "#2.Write a Python Program to Find Factorial of Number Using Recursion?\n",
    "def r_fact(fact):\n",
    "   if fact == 1:\n",
    "       return fact\n",
    "   else:\n",
    "       return fact*r_fact(fact-1)\n",
    "\n",
    "f = int(input(\"Enter any value \"))\n",
    "\n",
    "\n",
    "if f < 0:\n",
    "   print(\"No,factorial  for negative numbers\")\n",
    "elif f == 0:\n",
    "   print(\"TFactorial of 0 is 1\")\n",
    "else:\n",
    "   print(\"The factorial of\", f, \"is\", r_fact(f))"
   ]
  },
  {
   "cell_type": "code",
   "execution_count": 4,
   "metadata": {},
   "outputs": [
    {
     "name": "stdout",
     "output_type": "stream",
     "text": [
      "Enter your height in cm: 159\n",
      "Enter your weight in kg: 42\n",
      "Your BMI is 16.61326688026581\n"
     ]
    }
   ],
   "source": [
    "#3.Write a Python Program to calculate your Body Mass Index?\n",
    "h = float(input(\"Enter your height in cm: \"))\n",
    "w = float(input(\"Enter your weight in kg: \"))\n",
    "BMI = w / (h/100)**2\n",
    "print(f\"Your BMI is {BMI}\")"
   ]
  },
  {
   "cell_type": "code",
   "execution_count": 5,
   "metadata": {},
   "outputs": [
    {
     "name": "stdout",
     "output_type": "stream",
     "text": [
      "Enter any number 20\n",
      "Log value for base :  20\n",
      "4.321928094887363\n"
     ]
    }
   ],
   "source": [
    "#4.Write a Python Program to calculate the natural logarithm of any number?\n",
    "import math \n",
    "y=int(input(\"Enter any number \"))\n",
    "print (\"Log value for base : \",y) \n",
    "print (math.log2(y)) \n"
   ]
  },
  {
   "cell_type": "code",
   "execution_count": 9,
   "metadata": {},
   "outputs": [
    {
     "name": "stdout",
     "output_type": "stream",
     "text": [
      "Enter any natural number7\n",
      "784\n"
     ]
    }
   ],
   "source": [
    "#5.Write a Python Program for cube sum of first n natural numbers?\n",
    "def sum_Of_Cubes(n):\n",
    "    sum = 0\n",
    "    for i in range(1, n+1):\n",
    "        sum +=i*i*i\n",
    "          \n",
    "    return sum\n",
    "n =int(input(\"Enter any natural number\"))\n",
    "print(sum_Of_Cubes(n))\n"
   ]
  },
  {
   "cell_type": "code",
   "execution_count": null,
   "metadata": {},
   "outputs": [],
   "source": []
  }
 ],
 "metadata": {
  "kernelspec": {
   "display_name": "Python 3",
   "language": "python",
   "name": "python3"
  }
 },
 "nbformat": 4,
 "nbformat_minor": 4
}
