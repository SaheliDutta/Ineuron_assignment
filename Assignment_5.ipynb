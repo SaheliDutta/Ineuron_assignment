{
 "cells": [
  {
   "cell_type": "code",
   "execution_count": null,
   "metadata": {},
   "outputs": [],
   "source": [
    "1.\tWhat does an empty dictionary's code look like?\n",
    "Ans . An empty dictionary's code look like { }\n"
   ]
  },
  {
   "cell_type": "code",
   "execution_count": 1,
   "metadata": {},
   "outputs": [
    {
     "data": {
      "text/plain": [
       "{'foo': 42}"
      ]
     },
     "execution_count": 1,
     "metadata": {},
     "output_type": "execute_result"
    }
   ],
   "source": [
    "#2.\tWhat is the value of a dictionary value with the key 'foo' and the value 42?\n",
    "#Ans. The value of a dictionary value with the key 'foo' and the value 42 is {'foo': 42}\n",
    "{'foo': 42}\n"
   ]
  },
  {
   "cell_type": "code",
   "execution_count": null,
   "metadata": {},
   "outputs": [],
   "source": [
    "3.\tWhat is the most significant distinction between a dictionary and a list?\n",
    "Ans. The items those stored in  dictionary are unordered, whereas  the items in a list are ordered.\n"
   ]
  },
  {
   "cell_type": "code",
   "execution_count": 5,
   "metadata": {},
   "outputs": [
    {
     "ename": "SyntaxError",
     "evalue": "invalid syntax (<ipython-input-5-305556ced99c>, line 3)",
     "output_type": "error",
     "traceback": [
      "\u001b[1;36m  File \u001b[1;32m\"<ipython-input-5-305556ced99c>\"\u001b[1;36m, line \u001b[1;32m3\u001b[0m\n\u001b[1;33m    spam['foo'] if spam is {'bar': 100}\u001b[0m\n\u001b[1;37m                                       ^\u001b[0m\n\u001b[1;31mSyntaxError\u001b[0m\u001b[1;31m:\u001b[0m invalid syntax\n"
     ]
    }
   ],
   "source": [
    "#4.\tWhat happens if you try to access spam['foo'] if spam is {'bar': 100}?\n",
    "#Ans. We will  get an invalid syntax error if we try to access spam['foo'] if spam is {'bar': 100}\n",
    "spam['foo'] if spam is {'bar': 100}\n"
   ]
  },
  {
   "cell_type": "code",
   "execution_count": null,
   "metadata": {},
   "outputs": [],
   "source": [
    "5.\tIf a dictionary is stored in spam, what is the difference between the expressions 'cat' in spam and 'cat' in spam.keys()?\n",
    "Ans. There is no difference since the ‘in’ operator checks whether a value exists as a key in the dictionary.\n"
   ]
  },
  {
   "cell_type": "code",
   "execution_count": null,
   "metadata": {},
   "outputs": [],
   "source": [
    "6.\tIf a dictionary is stored in spam, what is the difference between the expressions 'cat' in spam and 'cat' in spam.values()?\n",
    "Ans.  The 'cat' in spam checks whether there is a 'cat' key in the dictionary, \n",
    "while 'cat' in spam.values() checks whether there is a value 'cat' for one of the keys in spam.\n"
   ]
  },
  {
   "cell_type": "code",
   "execution_count": 9,
   "metadata": {},
   "outputs": [],
   "source": [
    "#7. What is a shortcut for the following code?\n",
    "if 'color' not in spam:\n",
    "    spam['color'] = 'black'\n",
    "Ans. spam.setdefault('color', 'black')\n"
   ]
  },
  {
   "cell_type": "code",
   "execution_count": null,
   "metadata": {},
   "outputs": [],
   "source": [
    "8.How do you \"pretty print\" dictionary values using which module and function?\n",
    "Ans. pprint.pprint()\n"
   ]
  }
 ],
 "metadata": {
  "kernelspec": {
   "display_name": "Python 3",
   "language": "python",
   "name": "python3"
  },
  "language_info": {
   "codemirror_mode": {
    "name": "ipython",
    "version": 3
   },
   "file_extension": ".py",
   "mimetype": "text/x-python",
   "name": "python",
   "nbconvert_exporter": "python",
   "pygments_lexer": "ipython3",
   "version": "3.8.5"
  }
 },
 "nbformat": 4,
 "nbformat_minor": 4
}
