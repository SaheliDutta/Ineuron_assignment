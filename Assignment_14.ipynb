{
 "cells": [
  {
   "cell_type": "code",
   "execution_count": null,
   "metadata": {},
   "outputs": [],
   "source": [
    "1.What does RGBA stand for?\n",
    "Ans. Red-Green-Blue-Alpha"
   ]
  },
  {
   "cell_type": "code",
   "execution_count": null,
   "metadata": {},
   "outputs": [],
   "source": [
    "2.From the Pillow module, how do you get the RGBA value of any images?\n",
    "Ans.To get the RGBA value of any images:\n",
    "•First import the Image module from the Pillow library from PIL import Image.\n",
    "•Then open any image and get the RAGBAG values. img = Image.open('image.png') rgba = img.convert(“RGBA”) \n",
    "•Change the color(According to the need). Data will be an Imaging Core object containing thousands of tuples of RGBA values.\n",
    "•Store the changed image.\n"
   ]
  },
  {
   "cell_type": "code",
   "execution_count": null,
   "metadata": {},
   "outputs": [],
   "source": [
    "3.What is a box tuple, and how does it work?\n",
    "Ans. Many of Pillow’s functions and methods take a box tuple argument. \n",
    "This means Pillow is expecting a tuple of four integer coordinates that represent a rectangular region in an image. \n",
    "The four integers are, in order, as follows:\n",
    "1.Left The x-coordinate of the leftmost edge of the box.\n",
    "2.Top The y-coordinate of the top edge of the box.\n",
    "3.Right The x-coordinate of one pixel to the right of the rightmost edge of the box. \n",
    "This integer must be greater than the left integer.\n",
    "4.Bottom The y-coordinate of one pixel lower than the bottom edge of the box. \n",
    "This integer must be greater than the top integer."
   ]
  },
  {
   "cell_type": "code",
   "execution_count": null,
   "metadata": {},
   "outputs": [],
   "source": [
    "4.Use your image and load in notebook then, How can you find out the width and height of an Image object?\n",
    "Ans. The solution while running Python in the Python notebook(Jupyter) ,\n",
    "we can use the Image class of  Python.display to load and display a local image in the notebook.\n",
    "Here, the Image( ) function is used, where one needs to supply the filename i.e., \n",
    "the location path for the image file and we can vary the width and height to adjust the image size."
   ]
  },
  {
   "cell_type": "code",
   "execution_count": null,
   "metadata": {},
   "outputs": [],
   "source": [
    "5.\tWhat method would you call to get Image object for a 100×100 image, excluding the lower-left quarter of it?\n",
    "Ans. To get Image object for a 100×100 image, excluding the lower-left quarter of it call the resize() method."
   ]
  },
  {
   "cell_type": "code",
   "execution_count": null,
   "metadata": {},
   "outputs": [],
   "source": [
    "6. After making changes to an Image object, how could you save it as an image file?\n",
    "Ans. The save() ,saves this image after making changes to an Image object"
   ]
  },
  {
   "cell_type": "code",
   "execution_count": null,
   "metadata": {},
   "outputs": [],
   "source": [
    "7. What module contains Pillow’s shape-drawing code?\n",
    "Ans. The ImageDraw Module contains Pillow’s shape-drawing code."
   ]
  },
  {
   "cell_type": "code",
   "execution_count": null,
   "metadata": {},
   "outputs": [],
   "source": [
    "8. Image objects do not have drawing methods. What kind of object does? How do you get this kind of object?\n",
    "Ans. Only the GraphWin class has drawing method in Python.\n",
    "A GraphWin is a type of object from Zelle’s graphics package that automatically displays a window when it is created. \n",
    "The assignment statement remembers the window object as win for future reference.\n",
    "This will be our standard name for our graphics window object. A small window, 200 by 200 pixels is created."
   ]
  }
 ],
 "metadata": {
  "kernelspec": {
   "display_name": "Python 3",
   "language": "python",
   "name": "python3"
  },
  "language_info": {
   "codemirror_mode": {
    "name": "ipython",
    "version": 3
   },
   "file_extension": ".py",
   "mimetype": "text/x-python",
   "name": "python",
   "nbconvert_exporter": "python",
   "pygments_lexer": "ipython3",
   "version": "3.8.5"
  }
 },
 "nbformat": 4,
 "nbformat_minor": 4
}
