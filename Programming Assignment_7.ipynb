{
 "cells": [
  {
   "cell_type": "code",
   "execution_count": 3,
   "metadata": {},
   "outputs": [
    {
     "name": "stdout",
     "output_type": "stream",
     "text": [
      "Define size of the array: 6\n",
      "Enter array elements: \n",
      "2\n",
      "4\n",
      "6\n",
      "9\n",
      "5\n",
      "0\n",
      "Sum: 26\n"
     ]
    }
   ],
   "source": [
    "#1.Write a Python Program to find sum of array?\n",
    "arr = []\n",
    "num = int(input(\"Define size of the array: \"))\n",
    "print(\"Enter array elements: \")\n",
    "for n in range(num):\n",
    "  b = int(input())\n",
    "  arr.append(b)\n",
    "print(\"Sum:\", sum(arr))"
   ]
  },
  {
   "cell_type": "code",
   "execution_count": 5,
   "metadata": {},
   "outputs": [
    {
     "name": "stdout",
     "output_type": "stream",
     "text": [
      "Object `array` not found.\n",
      "Enter the size of the array: 4\n",
      "Enter array elements: \n",
      "22\n",
      "55\n",
      "11\n",
      "38\n",
      "The largest element of the given list is: 55\n"
     ]
    }
   ],
   "source": [
    "#2.Write a Python Program to find largest element in an array?\n",
    "arr = []\n",
    "num = int(input(\"Enter the size of the array: \"))\n",
    "print(\"Enter array elements: \")\n",
    "for n in range(num):\n",
    "  num1 = int(input())\n",
    "  arr.append(num1)\n",
    "large = arr[0]\n",
    "for n in range(num):\n",
    "  if(arr[n] > large):\n",
    "    large = arr[n]\n",
    "print(\"The largest element of the given list is:\", large)"
   ]
  },
  {
   "cell_type": "code",
   "execution_count": 11,
   "metadata": {},
   "outputs": [
    {
     "name": "stdout",
     "output_type": "stream",
     "text": [
      "Array after left rotation is:  [12, 2, 4, 6, 8, 10]\n"
     ]
    }
   ],
   "source": [
    "#3.Write a Python Program for array rotation?\n",
    "def rotateArray(a,b):\n",
    "    temp = []\n",
    "    n=len(a)\n",
    "    for i in range(b,n):\n",
    "        temp.append(a[i])\n",
    "    i = 0\n",
    "    for i in range (0,b):\n",
    "        temp.append(a[i])\n",
    "    a=temp.copy()\n",
    "    return a\n",
    " \n",
    "arr = [2,4,6,8,10,12]\n",
    "print(\"Array after left rotation is: \", end=' ')\n",
    "print(rotateArray(arr,5))"
   ]
  },
  {
   "cell_type": "code",
   "execution_count": 16,
   "metadata": {},
   "outputs": [
    {
     "name": "stdout",
     "output_type": "stream",
     "text": [
      "7 8 9 4 5 6 "
     ]
    }
   ],
   "source": [
    "#4.\tWrite a Python Program to Split the array and add the first part to the end?\n",
    "def splitArr(arr, n, k): \n",
    "    for i in range(0, k): \n",
    "        a1 = arr[0]\n",
    "        for j in range(0, n-1):\n",
    "            arr[j] = arr[j + 1]\n",
    "          \n",
    "        arr[n-1] = a1\n",
    "          \n",
    "arr =[4,5,6,7,8,9]\n",
    "n = len(arr)\n",
    "position = 3\n",
    "splitArr(arr, n, position)\n",
    "for i in range(0, n): \n",
    "    print(arr[i], end = ' ')\n"
   ]
  },
  {
   "cell_type": "code",
   "execution_count": 21,
   "metadata": {},
   "outputs": [
    {
     "name": "stdout",
     "output_type": "stream",
     "text": [
      "True\n"
     ]
    }
   ],
   "source": [
    "#5.Write a Python Program to check if given array is Monotonic?\n",
    "def monotonic(m):\n",
    "    n = len(m)\n",
    "    return (all(m[i]<=m[i+1] for i in range(n-1)) or\n",
    "            all(m[i]>=m[i+1] for i in range(n-1)))\n",
    "m = [2,22,222,2222,22222]\n",
    "print(monotonic(m))"
   ]
  },
  {
   "cell_type": "code",
   "execution_count": null,
   "metadata": {},
   "outputs": [],
   "source": []
  }
 ],
 "metadata": {
  "kernelspec": {
   "display_name": "Python 3",
   "language": "python",
   "name": "python3"
  },
  "language_info": {
   "codemirror_mode": {
    "name": "ipython",
    "version": 3
   },
   "file_extension": ".py",
   "mimetype": "text/x-python",
   "name": "python",
   "nbconvert_exporter": "python",
   "pygments_lexer": "ipython3",
   "version": "3.8.5"
  }
 },
 "nbformat": 4,
 "nbformat_minor": 4
}
