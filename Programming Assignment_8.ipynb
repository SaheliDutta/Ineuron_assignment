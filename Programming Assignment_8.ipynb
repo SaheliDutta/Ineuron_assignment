{
 "cells": [
  {
   "cell_type": "code",
   "execution_count": 1,
   "metadata": {},
   "outputs": [
    {
     "name": "stdout",
     "output_type": "stream",
     "text": [
      "[3, 9, 9]\n",
      "[4, 3, 2]\n",
      "[16, 8, 7]\n"
     ]
    }
   ],
   "source": [
    "#1.Write a Python Program to Add Two Matrices?\n",
    "Mat1 = [[1, 2, 3],\n",
    "      [3, 2, 1],\n",
    "      [7, 7, 7]]\n",
    "Mat2 = [[2, 7, 6],\n",
    "      [1, 1, 1],\n",
    "      [9, 1, 0]]\n",
    "add = [[0, 0, 0],\n",
    "       [0, 0, 0],\n",
    "       [0, 0, 0]]\n",
    "for i in range(len(Mat1)):\n",
    "    for j in range(len(Mat1[0])):\n",
    "        add[i][j] = Mat1[i][j] + Mat2[i][j]\n",
    "for m in add:\n",
    "    print(m)"
   ]
  },
  {
   "cell_type": "code",
   "execution_count": 2,
   "metadata": {},
   "outputs": [
    {
     "name": "stdout",
     "output_type": "stream",
     "text": [
      "Object `Matrices` not found.\n",
      "[2, 6, 18]\n",
      "[3, 2, 1]\n",
      "[63, 7, 0]\n"
     ]
    }
   ],
   "source": [
    "2.Write a Python Program to Multiply Two Matrices?\n",
    "Mat1 = [[1, 2, 3],\n",
    "      [3, 2, 1],\n",
    "      [7, 7, 7]]\n",
    "Mat2 = [[2, 3, 6],\n",
    "      [1, 1, 1],\n",
    "      [9, 1, 0]]\n",
    "mult = [[0, 0, 0],\n",
    "       [0, 0, 0],\n",
    "       [0, 0, 0]]\n",
    "for i in range(len(Mat1)):\n",
    "    for j in range(len(Mat1[0])):\n",
    "        mult[i][j] = Mat1[i][j] * Mat2[i][j]\n",
    "for k in mult:\n",
    "    print(k)"
   ]
  },
  {
   "cell_type": "code",
   "execution_count": 3,
   "metadata": {},
   "outputs": [
    {
     "name": "stdout",
     "output_type": "stream",
     "text": [
      "[111, 78, 2]\n",
      "[20, 13, 33]\n"
     ]
    }
   ],
   "source": [
    "#3.Write a Python Program to Transpose a Matrix.\n",
    "t = [[111,20],\n",
    "    [78 ,13],\n",
    "    [2 ,33]]\n",
    "\n",
    "tr = [[0,0,0],\n",
    "         [0,0,0]]\n",
    "\n",
    "# iterate through rows\n",
    "for i in range(len(t)):\n",
    "   # iterate through columns\n",
    "   for j in range(len(t[0])):\n",
    "       tr[j][i] = t[i][j]\n",
    "\n",
    "for m in tr:\n",
    "   print(m)"
   ]
  },
  {
   "cell_type": "code",
   "execution_count": 4,
   "metadata": {},
   "outputs": [
    {
     "name": "stdout",
     "output_type": "stream",
     "text": [
      "Enter any string:  We learned the following at the camp: rock-climbing, canoeing and rafting. \n",
      "The sorted words are:\n",
      "and\n",
      "at\n",
      "camp:\n",
      "canoeing\n",
      "following\n",
      "learned\n",
      "rafting.\n",
      "rock-climbing,\n",
      "the\n",
      "the\n",
      "we\n"
     ]
    }
   ],
   "source": [
    "#4.Write a Python Program to Sort Words in Alphabetic Order\n",
    "w =  input(\"Enter any string: \")\n",
    "words = [word.lower() for word in w.split()]\n",
    "words.sort()\n",
    "print(\"The sorted words are:\")\n",
    "for word in words:\n",
    "   print(word)"
   ]
  },
  {
   "cell_type": "code",
   "execution_count": 7,
   "metadata": {},
   "outputs": [
    {
     "name": "stdout",
     "output_type": "stream",
     "text": [
      "Enter any string:  I didn't have time to get my passport.\n",
      " I didnt have time to get my passport\n"
     ]
    }
   ],
   "source": [
    "#5.Write a Python Program to Remove Punctuation From a String?\n",
    "punc = '''!()-[]{};:'\"\\,<>./?@#$%^&*_~'''\n",
    "sen =input(\"Enter any string: \")\n",
    "no_punct = \"\"\n",
    "for char in sen:\n",
    "   if char not in punc:\n",
    "       no_punct = no_punct + char\n",
    "print(no_punct)"
   ]
  }
 ],
 "metadata": {
  "kernelspec": {
   "display_name": "Python 3",
   "language": "python",
   "name": "python3"
  },
  "language_info": {
   "codemirror_mode": {
    "name": "ipython",
    "version": 3
   },
   "file_extension": ".py",
   "mimetype": "text/x-python",
   "name": "python",
   "nbconvert_exporter": "python",
   "pygments_lexer": "ipython3",
   "version": "3.8.5"
  }
 },
 "nbformat": 4,
 "nbformat_minor": 4
}
