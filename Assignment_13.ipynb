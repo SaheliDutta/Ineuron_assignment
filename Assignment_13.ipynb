{
 "cells": [
  {
   "cell_type": "code",
   "execution_count": null,
   "metadata": {},
   "outputs": [],
   "source": [
    "1.What advantages do Excel spreadsheets have over CSV spreadsheets?\n",
    "Ans.The following are the advantages do Excel spreadsheets have over CSV spreadsheets :\n",
    "•CSV format is used for saving tabular information into delimited text file with .csv extension,\n",
    "whereas Excel is a spreadsheet which keeps files into its own proprietary .\n",
    "•CSV is a plain text format with values separated by commas whereas\n",
    "Excel is a binary file that contains information of all the worksheets in a workbook.\n",
    "•CSV file cannot perform any operations on data \n",
    "while Excel performs operations on the data.\n"
   ]
  },
  {
   "cell_type": "code",
   "execution_count": null,
   "metadata": {},
   "outputs": [],
   "source": [
    "2.What do you pass to csv.reader() and csv.writer() to create reader and writer objects?\n",
    "Ans.To create reader and writer object we need to pass a newline=' ' to csv.reader() and csv.writer().\n"
   ]
  },
  {
   "cell_type": "code",
   "execution_count": null,
   "metadata": {},
   "outputs": [],
   "source": [
    "3. What modes do File objects for reader and writer objects need to be opened in?\n",
    "Ans. File objects for reader and writer objects need to be opened in  the I/O mode .\n"
   ]
  },
  {
   "cell_type": "code",
   "execution_count": null,
   "metadata": {},
   "outputs": [],
   "source": [
    "4. What method takes a list argument and writes it to a CSV file?\n",
    "Ans. writerows() takes a list argument and writes it to a CSV file\n"
   ]
  },
  {
   "cell_type": "code",
   "execution_count": null,
   "metadata": {},
   "outputs": [],
   "source": [
    "5. What do the keyword arguments delimiter and line terminator do?\n",
    "Ans. The delimiter is the character that appears between cells on a row (the meaning of ‘delimiter’ is a separator).\n",
    "It describes the string to split on, whether a single character or multiple characters.\n",
    "We don’t actually type the word “delimiter”, we use whichever  delimiter (separator) requied to the split function to cut on.\n",
    "\n",
    "The line terminator is the character that comes at the end of a row. \n",
    "By default, the line terminator is a newline.\n"
   ]
  },
  {
   "cell_type": "code",
   "execution_count": null,
   "metadata": {},
   "outputs": [],
   "source": [
    "6. What function takes a string of JSON data and returns a Python data structure?\n",
    "Ans. The full-form of JSON is JavaScript Object Notation. \n",
    "Python supports JSON through a built-in package called json\n",
    "and this module can be used to covert a python dictionary to JSON object. \n",
    "The decode(o)  method return Python data structure of JSON string or data.\n"
   ]
  },
  {
   "cell_type": "code",
   "execution_count": null,
   "metadata": {},
   "outputs": [],
   "source": [
    "7. What function takes a Python data structure and returns a string of JSON data?\n",
    "Ans. The full-form of JSON is JavaScript Object Notation. Python supports JSON through a built-in package called json\n",
    "and this module can be used to covert a python dictionary to JSON object. \n",
    "In Python dictionary is used to get its equivalent JSON object.\n",
    "Method:\n",
    "•Import module\n",
    "•Create a Function\n",
    "•Create a Dictionary\n",
    "•Convert Dictionary to JSON Object Using dumps() method\n",
    "•Return JSON Object"
   ]
  }
 ],
 "metadata": {
  "kernelspec": {
   "display_name": "Python 3",
   "language": "python",
   "name": "python3"
  },
  "language_info": {
   "codemirror_mode": {
    "name": "ipython",
    "version": 3
   },
   "file_extension": ".py",
   "mimetype": "text/x-python",
   "name": "python",
   "nbconvert_exporter": "python",
   "pygments_lexer": "ipython3",
   "version": "3.8.5"
  }
 },
 "nbformat": 4,
 "nbformat_minor": 4
}
