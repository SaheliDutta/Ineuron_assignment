{
 "cells": [
  {
   "cell_type": "code",
   "execution_count": 18,
   "metadata": {
    "scrolled": true
   },
   "outputs": [
    {
     "name": "stdout",
     "output_type": "stream",
     "text": [
      "enter any sentence : Most common sport in India\n",
      "enter value of k =5\n",
      "list of words which are greater than given length k :  ['common']\n"
     ]
    }
   ],
   "source": [
    "#1.Write a Python program to find words which are greater than given length k?\n",
    "sent=input(\"enter any sentence : \")\n",
    "\n",
    "l=sent.split(\" \")\n",
    "\n",
    "n=[]\n",
    "\n",
    "k=int(input(\"enter value of k =\"))\n",
    "\n",
    "for i in l:\n",
    "\n",
    "    if (len(i)> k) :\n",
    "\n",
    "        n.append(i)\n",
    "\n",
    "print(\"list of words which are greater than given length k : \",n)"
   ]
  },
  {
   "cell_type": "code",
   "execution_count": 16,
   "metadata": {},
   "outputs": [
    {
     "name": "stdout",
     "output_type": "stream",
     "text": [
      "Enter any string Western\n",
      "Wesern\n"
     ]
    }
   ],
   "source": [
    "#2.Write a Python program for removing i-th character from a string\n",
    "def remove(string, c):\n",
    "\n",
    "    for i in range(len(string)):\n",
    "        if i == c:\n",
    "            string = string.replace(string[c], \"\", 1)\n",
    "    return string\n",
    "\n",
    "if __name__ == '__main__':\n",
    "\n",
    "    string = input(\"Enter any string \")\n",
    "i = 3\n",
    "print(remove(string, i))\n"
   ]
  },
  {
   "cell_type": "code",
   "execution_count": 12,
   "metadata": {},
   "outputs": [
    {
     "name": "stdout",
     "output_type": "stream",
     "text": [
      "['Python', 'is', 'fun']  = After joining string\n",
      "Python-is-fun  = After spliting string\n"
     ]
    }
   ],
   "source": [
    "#3.Write a Python program to split and join a string?\n",
    "st = \"Python is fun\"\n",
    "st = st.split(\" \")  \n",
    "print(st,\" = After joining string\")\n",
    "st = \"-\".join(st)\n",
    "print(st,\" = After spliting string\")\n",
    " "
   ]
  },
  {
   "cell_type": "code",
   "execution_count": 11,
   "metadata": {},
   "outputs": [
    {
     "name": "stdout",
     "output_type": "stream",
     "text": [
      "Enter a string 101010\n",
      "The String is binary string\n"
     ]
    }
   ],
   "source": [
    "#4.Write a Python to check if a given string is binary string or not?\n",
    "s=input(\"Enter a string \")\n",
    "flag = True\n",
    "for char in s :\n",
    "    if(char == '0' or char == '1'):\n",
    "       continue \n",
    "    else :\n",
    "        flag = False\n",
    "        print(\"The String is not a binary string\")\n",
    "        break\n",
    "    \n",
    "if(flag):\n",
    "    print(\"The String is binary string\")\n"
   ]
  },
  {
   "cell_type": "code",
   "execution_count": 10,
   "metadata": {},
   "outputs": [
    {
     "name": "stdout",
     "output_type": "stream",
     "text": [
      "Enter first string : Most common sport in India\n",
      "Enter second string : Most rare sport in Asia\n",
      "The uncommon words between both strings a and b are =   {'common', 'rare', 'India', 'Asia'}\n"
     ]
    }
   ],
   "source": [
    "#5.Write a Python program to find uncommon words from two Strings?\n",
    "a = input('Enter first string : ')\n",
    "b = input('Enter second string : ')\n",
    "uncwa = a.split()\n",
    "uncwb = b.split()\n",
    "uncommonWords = set(uncwa).symmetric_difference(set(uncwb))\n",
    "print(\"The uncommon words between both strings a and b are =  \", uncommonWords)"
   ]
  },
  {
   "cell_type": "code",
   "execution_count": 17,
   "metadata": {},
   "outputs": [
    {
     "name": "stdout",
     "output_type": "stream",
     "text": [
      "c a t e r \n"
     ]
    }
   ],
   "source": [
    "#6.Write a Python to find all duplicate characters in string?\n",
    "string = \"Duplicate characters\"\n",
    "duplicate = {}\n",
    "for char in string:\n",
    "    if char in duplicate:\n",
    "        duplicate[char] += 1\n",
    "    else:\n",
    "        duplicate[char] = 1\n",
    "for key, value in duplicate.items():\n",
    "   if value > 1:\n",
    "      print(key, end = \" \")\n",
    "print()"
   ]
  },
  {
   "cell_type": "code",
   "execution_count": 9,
   "metadata": {},
   "outputs": [
    {
     "name": "stdout",
     "output_type": "stream",
     "text": [
      "Given string is = W@tson\n",
      "yes,special charecter is present\n"
     ]
    }
   ],
   "source": [
    "#7.Write a Python Program to check if a string contains any special character?\n",
    "schar = \"!@#$%^&*()-+?_=,<>/\"\n",
    "s=input(\"Given string is = \")\n",
    "if any(c in schar for c in s):\n",
    "    print(\"yes,special charecter is present\")\n",
    "else:\n",
    "    print(\"no special charecter in given string\")"
   ]
  }
 ],
 "metadata": {
  "kernelspec": {
   "display_name": "Python 3",
   "language": "python",
   "name": "python3"
  },
  "language_info": {
   "codemirror_mode": {
    "name": "ipython",
    "version": 3
   },
   "file_extension": ".py",
   "mimetype": "text/x-python",
   "name": "python",
   "nbconvert_exporter": "python",
   "pygments_lexer": "ipython3",
   "version": "3.8.5"
  }
 },
 "nbformat": 4,
 "nbformat_minor": 4
}
