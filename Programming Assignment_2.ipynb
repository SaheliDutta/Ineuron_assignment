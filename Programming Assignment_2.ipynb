{
 "cells": [
  {
   "cell_type": "code",
   "execution_count": 4,
   "metadata": {},
   "outputs": [
    {
     "name": "stdout",
     "output_type": "stream",
     "text": [
      "Enter desired kilometers: 5\n",
      "The desired miles will be 3.1069999999999998\n"
     ]
    }
   ],
   "source": [
    "# 1.Write a Python program to convert kilometers to miles?\n",
    "kms = float(input('Enter desired kilometers: '))\n",
    "#1km= 0.6214 miles\n",
    "cnvrt_miles = 0.6214  \n",
    "#converting to miles\n",
    "miles = kms * cnvrt_miles  \n",
    "print('The desired miles will be' ,miles)  "
   ]
  },
  {
   "cell_type": "code",
   "execution_count": 5,
   "metadata": {},
   "outputs": [
    {
     "name": "stdout",
     "output_type": "stream",
     "text": [
      "Enter the current temperature in Celsius44\n",
      "The temperature in fahrenheit is  111.2\n"
     ]
    }
   ],
   "source": [
    "# 2. Write a Python program to convert Celsius to Fahrenheit? \n",
    "temp= int(input(\"Enter the current temperature in Celsius\"))\n",
    "  # Convert temperature in Celsius to Fahrenheit  \n",
    "Fahrenheit = (temp * 1.8) + 32  \n",
    "print(\"The temperature in fahrenheit is \", +Fahrenheit ) "
   ]
  },
  {
   "cell_type": "code",
   "execution_count": 6,
   "metadata": {
    "scrolled": true
   },
   "outputs": [
    {
     "name": "stdout",
     "output_type": "stream",
     "text": [
      "enter the year 5050\n",
      "enter the month 6\n",
      "     June 5050\n",
      "Mo Tu We Th Fr Sa Su\n",
      "                1  2\n",
      " 3  4  5  6  7  8  9\n",
      "10 11 12 13 14 15 16\n",
      "17 18 19 20 21 22 23\n",
      "24 25 26 27 28 29 30\n",
      "\n"
     ]
    }
   ],
   "source": [
    "# 3.Write a Python program to display calendar?\n",
    "import calendar\n",
    "\n",
    "year = int(input('enter the year '))\n",
    "month = int(input('enter the month '))\n",
    "\n",
    "print(calendar.month(year, month))\n",
    "\n",
    "          "
   ]
  },
  {
   "cell_type": "code",
   "execution_count": 8,
   "metadata": {},
   "outputs": [
    {
     "name": "stdout",
     "output_type": "stream",
     "text": [
      "enter the number3\n",
      "enter the number55\n",
      "enter the number4\n",
      "the value of d is  2977\n",
      "the values of x of the quadratic are = -0.6571628057775563 -164.34283719422245\n"
     ]
    }
   ],
   "source": [
    "# 4.Write a Python program to solve quadratic equation?\n",
    "import math\n",
    "a = int(input('enter the number'))\n",
    "b = int(input('enter the number'))\n",
    "c = int(input('enter the number'))\n",
    "\n",
    "#ax2+bx+c = 0\n",
    "\n",
    "\n",
    "d = (b**2) - 4 *a*c\n",
    "print(\"the value of d is \" , d)\n",
    "sqaure_root = math.sqrt(d)\n",
    "x = (-b + sqaure_root)/2*a\n",
    "\n",
    "x1 = (-b - sqaure_root)/2*a\n",
    "\n",
    "print('the values of x of the quadratic are =', x , x1)\n",
    "\n"
   ]
  },
  {
   "cell_type": "code",
   "execution_count": 9,
   "metadata": {},
   "outputs": [
    {
     "name": "stdout",
     "output_type": "stream",
     "text": [
      "Enter first variable 4\n",
      "The value of num1 before swapping is  4.0\n",
      "Enter the second variable 3\n",
      "The value of num2 before swapping is  3\n",
      "The value of num1 after swapping is  3\n",
      "The value of num2 before swapping is  4.0\n"
     ]
    }
   ],
   "source": [
    "## 5.Write a Python program to swap two variables without temp variable?\n",
    "num1 = float(input(\"Enter first variable \"))\n",
    "print(\"The value of num1 before swapping is \", +num1)\n",
    "num2 = int(input(\"Enter the second variable \"))\n",
    "print(\"The value of num2 before swapping is \", +num2)\n",
    "num1,num2=num2,num1\n",
    "print(\"The value of num1 after swapping is \", +num1)\n",
    "print(\"The value of num2 before swapping is \", +num2)\n"
   ]
  },
  {
   "cell_type": "code",
   "execution_count": null,
   "metadata": {},
   "outputs": [],
   "source": []
  }
 ],
 "metadata": {
  "kernelspec": {
   "display_name": "Python 3",
   "language": "python",
   "name": "python3"
  },
  "language_info": {
   "codemirror_mode": {
    "name": "ipython",
    "version": 3
   },
   "file_extension": ".py",
   "mimetype": "text/x-python",
   "name": "python",
   "nbconvert_exporter": "python",
   "pygments_lexer": "ipython3",
   "version": "3.8.5"
  }
 },
 "nbformat": 4,
 "nbformat_minor": 4
}
