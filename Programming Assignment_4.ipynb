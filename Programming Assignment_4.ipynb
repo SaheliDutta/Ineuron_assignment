{
 "cells": [
  {
   "cell_type": "code",
   "execution_count": 1,
   "metadata": {},
   "outputs": [
    {
     "name": "stdout",
     "output_type": "stream",
     "text": [
      "enter a number 5\n",
      "factorial of  5  is  120\n"
     ]
    }
   ],
   "source": [
    "# 1.Write a Python Program to Find the Factorial of a Number\n",
    "f = eval(input(\"enter a number \"))\n",
    " \n",
    "fac = 1\n",
    " \n",
    "for i in range(1, f + 1):\n",
    "    fac = fac * i\n",
    " \n",
    "print(\"factorial of \", f, \" is \", fac)"
   ]
  },
  {
   "cell_type": "code",
   "execution_count": 4,
   "metadata": {},
   "outputs": [
    {
     "name": "stdout",
     "output_type": "stream",
     "text": [
      "Enter a number to display the multiplication table1\n",
      "1 x 1 = 1\n",
      "1 x 2 = 2\n",
      "1 x 3 = 3\n",
      "1 x 4 = 4\n",
      "1 x 5 = 5\n",
      "1 x 6 = 6\n",
      "1 x 7 = 7\n",
      "1 x 8 = 8\n",
      "1 x 9 = 9\n",
      "1 x 10 = 10\n"
     ]
    }
   ],
   "source": [
    "# 2.Write a Python Program to Display the multiplication Table?\n",
    "num = int(input(\"Enter a number to display the multiplication table\"))\n",
    "for i in range(1, 11):\n",
    "   print(num, 'x', i, '=', num*i)"
   ]
  },
  {
   "cell_type": "code",
   "execution_count": 8,
   "metadata": {},
   "outputs": [
    {
     "name": "stdout",
     "output_type": "stream",
     "text": [
      "The numbers in Fibonacci sequence6\n",
      "Fibonacci sequence: \n",
      "0\n",
      "1\n",
      "1\n",
      "2\n",
      "3\n",
      "5\n"
     ]
    }
   ],
   "source": [
    "# 3.Write a Python Program to Print the Fibonacci sequence?\n",
    "n = int(input(\"The numbers in Fibonacci sequence \"))\n",
    "n1=0\n",
    "n2 =1\n",
    "count = 0\n",
    "if n < 0:\n",
    "   print(\"Enter any number\")\n",
    "elif n == 1:\n",
    "   print(\"Fibonacci sequence upto\",n,\" is : \")\n",
    "   print(n1)\n",
    "else:\n",
    "   print(\"Fibonacci sequence: \")\n",
    "   while count < n:\n",
    "       print(n1)\n",
    "       nth = n1 + n2\n",
    "       n1 = n2\n",
    "       n2 = nth\n",
    "       count += 1"
   ]
  },
  {
   "cell_type": "code",
   "execution_count": 21,
   "metadata": {},
   "outputs": [
    {
     "name": "stdout",
     "output_type": "stream",
     "text": [
      "Enter a number: 333\n",
      "333 is not an Armstrong number\n"
     ]
    }
   ],
   "source": [
    "# 4.Write a Python Program to Check Armstrong Number?\n",
    "a = int(input(\"Enter a number: \"))\n",
    "sum = 0\n",
    "temp = a\n",
    "while temp > 0:\n",
    "   rem = temp % 10\n",
    "   sum += rem ** 3\n",
    "   temp //= 10\n",
    "\n",
    "# display the result\n",
    "if a == sum:\n",
    "   print(a,\"is an Armstrong number\")\n",
    "else:\n",
    "   print(a,\"is not an Armstrong number\") "
   ]
  },
  {
   "cell_type": "code",
   "execution_count": 24,
   "metadata": {},
   "outputs": [
    {
     "name": "stdout",
     "output_type": "stream",
     "text": [
      "Enter the Lower limit: 0\n",
      "Enter the upper limit: 10\n",
      "0\n",
      "1\n",
      "2\n",
      "3\n",
      "4\n",
      "5\n",
      "6\n",
      "7\n",
      "8\n",
      "9\n"
     ]
    }
   ],
   "source": [
    " # 5.Write a Python Program to Find Armstrong Number in an Interval?\n",
    "lower = int(input(\"Enter the Lower limit: \"))\n",
    "upper = int(input(\"Enter the upper limit: \"))\n",
    "for i in range(lower, upper + 1):\n",
    "    cube = len(str(i))\n",
    "    sum = 0\n",
    "    temp = i\n",
    "    while temp > 0:\n",
    "        rem = temp % 10\n",
    "        sum += rem ** cube\n",
    "        temp //= 10\n",
    "    if i == sum:\n",
    "        print(i)"
   ]
  },
  {
   "cell_type": "code",
   "execution_count": 27,
   "metadata": {},
   "outputs": [
    {
     "name": "stdout",
     "output_type": "stream",
     "text": [
      "Enter a number  5\n",
      "The sum of first n natural numbers is 15\n"
     ]
    }
   ],
   "source": [
    "# 6.Write a Python Program to Find the Sum of Natural Numbers?\n",
    "n=int(input(\"Enter a number  \"))\n",
    "sum = 0\n",
    "while n > 0:\n",
    "    sum=sum+n\n",
    "    n=n-1\n",
    "print(\"The sum of first n natural numbers is\",sum)"
   ]
  },
  {
   "cell_type": "code",
   "execution_count": null,
   "metadata": {},
   "outputs": [],
   "source": []
  }
 ],
 "metadata": {
  "kernelspec": {
   "display_name": "Python 3",
   "language": "python",
   "name": "python3"
  },
  "language_info": {
   "codemirror_mode": {
    "name": "ipython",
    "version": 3
   },
   "file_extension": ".py",
   "mimetype": "text/x-python",
   "name": "python",
   "nbconvert_exporter": "python",
   "pygments_lexer": "ipython3",
   "version": "3.8.5"
  }
 },
 "nbformat": 4,
 "nbformat_minor": 4
}
