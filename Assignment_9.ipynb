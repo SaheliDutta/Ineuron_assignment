{
 "cells": [
  {
   "cell_type": "code",
   "execution_count": null,
   "metadata": {},
   "outputs": [],
   "source": [
    "#1.To what does a relative path refer?\n",
    " Ans.   Relative paths are refers to current working directory. "
   ]
  },
  {
   "cell_type": "code",
   "execution_count": null,
   "metadata": {},
   "outputs": [],
   "source": [
    "#2.What does an absolute path start with your operating system?\n",
    "Ans. In any operating system absolute paths start with the root folder (C:\\)"
   ]
  },
  {
   "cell_type": "code",
   "execution_count": null,
   "metadata": {},
   "outputs": [],
   "source": [
    "#3.What do the functions os.getcwd() and os.chdir() do?\n",
    "Ans. The os.getcwd() function returns the current working directory. \n",
    "The os.chdir() function changes the current working directory.\n"
   ]
  },
  {
   "cell_type": "code",
   "execution_count": null,
   "metadata": {},
   "outputs": [],
   "source": [
    "#4.What are the . and .. folders?\n",
    "Ans. The . folder is the current folder, and .. is the parent folder.\n"
   ]
  },
  {
   "cell_type": "code",
   "execution_count": null,
   "metadata": {},
   "outputs": [],
   "source": [
    "#5.In C:\\bacon\\eggs\\spam.txt, which part is the dir name, and which part is the base name?\n",
    "Ans. C:\\bacon\\eggs is the dir name, while spam.txt is the base name.\n"
   ]
  },
  {
   "cell_type": "code",
   "execution_count": null,
   "metadata": {},
   "outputs": [],
   "source": [
    "#6.What are the three “mode” arguments that can be passed to the open() function?\n",
    "Ans. The the three “mode” arguments that can be passed to the open() function are as follows:\n",
    "•The string 'r' for read mode,\n",
    "•'w' for write mode, \n",
    "•'a' for append mode\n"
   ]
  },
  {
   "cell_type": "code",
   "execution_count": null,
   "metadata": {},
   "outputs": [],
   "source": [
    "#7.What happens if an existing file is opened in write mode?\n",
    "Ans. If an existing file opened in write mode then it  is erased and completely overwritten."
   ]
  },
  {
   "cell_type": "code",
   "execution_count": null,
   "metadata": {},
   "outputs": [],
   "source": [
    "#8.How do you tell the difference between read() and readlines()?\n",
    "Ans. The read() method returns the file's entire contents as a single string value. \n",
    "The readlines() method returns a list of strings, where each string is a line from the file's contents.\n"
   ]
  },
  {
   "cell_type": "code",
   "execution_count": null,
   "metadata": {},
   "outputs": [],
   "source": [
    "#9.What data structure does a shelf value resemble?\n",
    "Ans. A shelf value resembles a dictionary values that has keys and values,\n",
    "along with keys() and values() methods that work similarly to the dictionary methods of the same names.\n"
   ]
  }
 ],
 "metadata": {
  "kernelspec": {
   "display_name": "Python 3",
   "language": "python",
   "name": "python3"
  },
  "language_info": {
   "codemirror_mode": {
    "name": "ipython",
    "version": 3
   },
   "file_extension": ".py",
   "mimetype": "text/x-python",
   "name": "python",
   "nbconvert_exporter": "python",
   "pygments_lexer": "ipython3",
   "version": "3.8.5"
  }
 },
 "nbformat": 4,
 "nbformat_minor": 4
}
