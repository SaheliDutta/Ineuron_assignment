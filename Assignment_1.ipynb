{
 "cells": [
  {
   "cell_type": "code",
   "execution_count": null,
   "metadata": {},
   "outputs": [],
   "source": [
    "#1. In the below elements which of them are values or an expression? \n",
    "eg:- values can be integer or string and expressions will be mathematical operators.\n",
    "* \n",
    "'hello'\n",
    "-87.8\n",
    "- \n",
    "/ \n",
    "+\t\n",
    "6 \n",
    "Ans:  Solution\n",
    "* -  is the mathematical operators for multiplying two or more given variables (numeric values)\n",
    "'hello' -  is a string  value\n",
    "-87.8  -  is a float value\n",
    "-  is the mathematical operators for subtracting two or more given variables (numeric values)\n",
    "/   -   is the mathematical operators for division of  two or more given variables (numeric values)\n",
    "+  is the mathematical operators for addition of  two or more given variables (numeric values) \n",
    "and also used to concatenate string values\n",
    "6  is an integer value\n"
   ]
  },
  {
   "cell_type": "code",
   "execution_count": null,
   "metadata": {},
   "outputs": [],
   "source": [
    "2. What is the difference between string and variable?\n",
    "Ans. String is a sequence of characters. Strings are immutable which means that once defined  cannot be changed.\n",
    "A string literal or a string in python can be created by using single , double and triple quotes. \n",
    "For example , S= “Nice to meet you” .\n",
    "A Python variable is a reserved memory location to store values.\n",
    "The values can be numeric( integer , float values), Boolean and character type i.e. string variables.\n",
    "We may say string is a data type where as variable is used to hold the data type or store data.\n",
    "\n"
   ]
  },
  {
   "cell_type": "code",
   "execution_count": null,
   "metadata": {},
   "outputs": [],
   "source": [
    "3. Describe three different data types.\n",
    "Ans. Three main different data types in python are namely: Numeric, Boolean and Dictionary.\n",
    "Numeric Data type in python - There are three distinct numeric types: integers, floating point numbers, and complex numbers. \n",
    "\n",
    "Integer data type is the numeric data type those consist of whole numbers , natural numbers\n",
    "(It can be both positive and negative numbers).\n",
    "Numeric literals containing a decimal point or an exponent sign yield floating point numbers. \n",
    "\n",
    "Complex numbers have a real and imaginary part, which are each a floating point number.\n",
    "To extract these parts from a complex number z, use z.real and z.imag.\n",
    "In Python Boolean datatype is one of the built-in data types.\n",
    "It’s used to represent the truth value of an expression. \n",
    "For example, the expression 1 <= 10  is True, while the expression 0 == 10 is False.\n",
    "\n",
    "Dictionary – In Python dictionaries are kind of hash table type. \n",
    "They work like associative arrays and consist of key-value pairs. \n",
    "A dictionary can be in any Python type, but are mostly numbers or strings. Values.\n",
    "Dictionaries represents an unordered collection of keys and values those are used to store data values \n",
    "like a map, which unlike other Data Types that hold only single value as an element.\n"
   ]
  },
  {
   "cell_type": "code",
   "execution_count": null,
   "metadata": {},
   "outputs": [],
   "source": [
    "4. What is an expression made up of? What do all expressions do?\n",
    "Ans. Basically,  expressions represents values which can be  a string, integer, boolean .\n",
    "So we can say expressions are made up of combination of operators,variables and constants \n",
    "as required to produce desired values.\n",
    "An expression evaluates to a value and used to represent values."
   ]
  },
  {
   "cell_type": "code",
   "execution_count": null,
   "metadata": {},
   "outputs": [],
   "source": [
    "5. This assignment statements, like spam = 10. What is the difference between an expression and a statement?\n",
    "Ans. An “expression” is any combination of values and functions those are combined and interpreted by the compiler\n",
    "to create  new value.\n",
    "A complete command is called a Statement. \n",
    "For example – print(“Hello World”) is a statement which will give the output as Hello World once it is executed.\n",
    "This assignment statements, like spam = 10 won’t return any value unless the print statement print(spam) will be executed .\n",
    "Here spam = 10 is the expression that indicates that the variable spam is holding the value 10 or 10.0 in it."
   ]
  },
  {
   "cell_type": "code",
   "execution_count": 1,
   "metadata": {},
   "outputs": [
    {
     "data": {
      "text/plain": [
       "23"
      ]
     },
     "execution_count": 1,
     "metadata": {},
     "output_type": "execute_result"
    }
   ],
   "source": [
    "#6. After running the following code, what does the variable bacon contain?\n",
    "bacon = 22\n",
    "bacon + 1\n",
    "#Ans. bacon + 1 will return 23, hence bacon will have the value 23 stored in it.\n"
   ]
  },
  {
   "cell_type": "code",
   "execution_count": 3,
   "metadata": {},
   "outputs": [
    {
     "name": "stdout",
     "output_type": "stream",
     "text": [
      "spamspamspam\n",
      "spamspamspam\n"
     ]
    }
   ],
   "source": [
    "#7. What should the values of the following two terms be?\n",
    "#'spam' + 'spamspam'\n",
    "#'spam' * 3\n",
    "#Ans.  'spam' + 'spamspam' will return 'spamspamspam' as output and  'spam' * 3 will return 'spamspamspam' as output. \n",
    "#(In first case , 'spam' + 'spamspam'  the string values got concatenated where as \n",
    "#in the second case the string value got multiplied thrice.)\n",
    "a='spam' + 'spamspam'\n",
    "b='spam' * 3\n",
    "print(a)\n",
    "print(b)"
   ]
  },
  {
   "cell_type": "code",
   "execution_count": null,
   "metadata": {},
   "outputs": [],
   "source": [
    "8.Why is eggs a valid variable name while 100 is invalid?\n",
    "Ans.A variable name cannot start with a numeric value . \n",
    "Since 100 is a numeric value and eggs is a variable starting with alphabet ,\n",
    "so eggs is a valid variable name where as 100 is invalid variable name.\n"
   ]
  },
  {
   "cell_type": "code",
   "execution_count": null,
   "metadata": {},
   "outputs": [],
   "source": [
    "9. What three functions can be used to get the integer, floating-point number, or string version of a value?\n",
    "Ans. The int() function can be used to get the integer version of a value. \n",
    "The float() function is used to get floating-point number and str() function is used to get string version of a value.\n"
   ]
  },
  {
   "cell_type": "code",
   "execution_count": 5,
   "metadata": {},
   "outputs": [
    {
     "ename": "TypeError",
     "evalue": "can only concatenate str (not \"int\") to str",
     "output_type": "error",
     "traceback": [
      "\u001b[1;31m---------------------------------------------------------------------------\u001b[0m",
      "\u001b[1;31mTypeError\u001b[0m                                 Traceback (most recent call last)",
      "\u001b[1;32m<ipython-input-5-0b521645629b>\u001b[0m in \u001b[0;36m<module>\u001b[1;34m\u001b[0m\n\u001b[0;32m      1\u001b[0m \u001b[1;31m#10. Why does this expression cause an error? How can you fix it?\u001b[0m\u001b[1;33m\u001b[0m\u001b[1;33m\u001b[0m\u001b[1;33m\u001b[0m\u001b[0m\n\u001b[1;32m----> 2\u001b[1;33m \u001b[1;34m'I have eaten '\u001b[0m \u001b[1;33m+\u001b[0m \u001b[1;36m99\u001b[0m \u001b[1;33m+\u001b[0m \u001b[1;34m' burritos.'\u001b[0m\u001b[1;33m\u001b[0m\u001b[1;33m\u001b[0m\u001b[0m\n\u001b[0m\u001b[0;32m      3\u001b[0m \u001b[1;31m#Ans. The given expression 'I have eaten ' + 99 + ' burritos.' will give error\u001b[0m\u001b[1;33m\u001b[0m\u001b[1;33m\u001b[0m\u001b[1;33m\u001b[0m\u001b[0m\n\u001b[0;32m      4\u001b[0m \u001b[1;31m#because 99 is an integer value whereas only string values can be concatenated.\u001b[0m\u001b[1;33m\u001b[0m\u001b[1;33m\u001b[0m\u001b[1;33m\u001b[0m\u001b[0m\n\u001b[0;32m      5\u001b[0m \u001b[1;31m#If we convert 99 into string value then the error can be fixed.\u001b[0m\u001b[1;33m\u001b[0m\u001b[1;33m\u001b[0m\u001b[1;33m\u001b[0m\u001b[0m\n",
      "\u001b[1;31mTypeError\u001b[0m: can only concatenate str (not \"int\") to str"
     ]
    }
   ],
   "source": [
    "#10. Why does this expression cause an error? How can you fix it?\n",
    "'I have eaten ' + 99 + ' burritos.'\n",
    "#Ans. The given expression 'I have eaten ' + 99 + ' burritos.' will give error \n",
    "#because 99 is an integer value whereas only string values can be concatenated.\n",
    "#If we convert 99 into string value then the error can be fixed.\n",
    "#'I have eaten ' + '99' + ' burritos.' Will give the desired inputwhich is 'I have eaten 99 burritos.'"
   ]
  },
  {
   "cell_type": "code",
   "execution_count": 6,
   "metadata": {},
   "outputs": [
    {
     "data": {
      "text/plain": [
       "'I have eaten 99  burritos.'"
      ]
     },
     "execution_count": 6,
     "metadata": {},
     "output_type": "execute_result"
    }
   ],
   "source": [
    "'I have eaten ' + '99 '+ ' burritos.'"
   ]
  },
  {
   "cell_type": "code",
   "execution_count": null,
   "metadata": {},
   "outputs": [],
   "source": []
  }
 ],
 "metadata": {
  "kernelspec": {
   "display_name": "Python 3",
   "language": "python",
   "name": "python3"
  },
  "language_info": {
   "codemirror_mode": {
    "name": "ipython",
    "version": 3
   },
   "file_extension": ".py",
   "mimetype": "text/x-python",
   "name": "python",
   "nbconvert_exporter": "python",
   "pygments_lexer": "ipython3",
   "version": "3.8.5"
  }
 },
 "nbformat": 4,
 "nbformat_minor": 4
}
